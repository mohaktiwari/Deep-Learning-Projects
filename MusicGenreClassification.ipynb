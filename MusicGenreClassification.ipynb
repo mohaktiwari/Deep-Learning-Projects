{
  "cells": [
    {
      "cell_type": "markdown",
      "metadata": {
        "id": "view-in-github",
        "colab_type": "text"
      },
      "source": [
        "<a href=\"https://colab.research.google.com/github/mohaktiwari/Machine-Learning-Projects/blob/main/MusicGenreClassification.ipynb\" target=\"_parent\"><img src=\"https://colab.research.google.com/assets/colab-badge.svg\" alt=\"Open In Colab\"/></a>"
      ]
    },
    {
      "cell_type": "code",
      "execution_count": null,
      "id": "4ee031b7",
      "metadata": {
        "id": "4ee031b7"
      },
      "outputs": [],
      "source": [
        "#Music Genre Classification\n",
        "import pandas as pd\n",
        "import numpy as np"
      ]
    },
    {
      "cell_type": "code",
      "execution_count": null,
      "id": "fb92ea78",
      "metadata": {
        "id": "fb92ea78",
        "outputId": "69f65a4b-4261-4062-d7bf-a684ff154d94"
      },
      "outputs": [
        {
          "data": {
            "text/html": [
              "<div>\n",
              "<style scoped>\n",
              "    .dataframe tbody tr th:only-of-type {\n",
              "        vertical-align: middle;\n",
              "    }\n",
              "\n",
              "    .dataframe tbody tr th {\n",
              "        vertical-align: top;\n",
              "    }\n",
              "\n",
              "    .dataframe thead th {\n",
              "        text-align: right;\n",
              "    }\n",
              "</style>\n",
              "<table border=\"1\" class=\"dataframe\">\n",
              "  <thead>\n",
              "    <tr style=\"text-align: right;\">\n",
              "      <th></th>\n",
              "      <th>filename</th>\n",
              "      <th>length</th>\n",
              "      <th>chroma_stft_mean</th>\n",
              "      <th>chroma_stft_var</th>\n",
              "      <th>rms_mean</th>\n",
              "      <th>rms_var</th>\n",
              "      <th>spectral_centroid_mean</th>\n",
              "      <th>spectral_centroid_var</th>\n",
              "      <th>spectral_bandwidth_mean</th>\n",
              "      <th>spectral_bandwidth_var</th>\n",
              "      <th>...</th>\n",
              "      <th>mfcc16_var</th>\n",
              "      <th>mfcc17_mean</th>\n",
              "      <th>mfcc17_var</th>\n",
              "      <th>mfcc18_mean</th>\n",
              "      <th>mfcc18_var</th>\n",
              "      <th>mfcc19_mean</th>\n",
              "      <th>mfcc19_var</th>\n",
              "      <th>mfcc20_mean</th>\n",
              "      <th>mfcc20_var</th>\n",
              "      <th>label</th>\n",
              "    </tr>\n",
              "  </thead>\n",
              "  <tbody>\n",
              "    <tr>\n",
              "      <th>0</th>\n",
              "      <td>blues.00000.wav</td>\n",
              "      <td>661794</td>\n",
              "      <td>0.350088</td>\n",
              "      <td>0.088757</td>\n",
              "      <td>0.130228</td>\n",
              "      <td>0.002827</td>\n",
              "      <td>1784.165850</td>\n",
              "      <td>129774.064525</td>\n",
              "      <td>2002.449060</td>\n",
              "      <td>85882.761315</td>\n",
              "      <td>...</td>\n",
              "      <td>52.420910</td>\n",
              "      <td>-1.690215</td>\n",
              "      <td>36.524071</td>\n",
              "      <td>-0.408979</td>\n",
              "      <td>41.597103</td>\n",
              "      <td>-2.303523</td>\n",
              "      <td>55.062923</td>\n",
              "      <td>1.221291</td>\n",
              "      <td>46.936035</td>\n",
              "      <td>blues</td>\n",
              "    </tr>\n",
              "    <tr>\n",
              "      <th>1</th>\n",
              "      <td>blues.00001.wav</td>\n",
              "      <td>661794</td>\n",
              "      <td>0.340914</td>\n",
              "      <td>0.094980</td>\n",
              "      <td>0.095948</td>\n",
              "      <td>0.002373</td>\n",
              "      <td>1530.176679</td>\n",
              "      <td>375850.073649</td>\n",
              "      <td>2039.036516</td>\n",
              "      <td>213843.755497</td>\n",
              "      <td>...</td>\n",
              "      <td>55.356403</td>\n",
              "      <td>-0.731125</td>\n",
              "      <td>60.314529</td>\n",
              "      <td>0.295073</td>\n",
              "      <td>48.120598</td>\n",
              "      <td>-0.283518</td>\n",
              "      <td>51.106190</td>\n",
              "      <td>0.531217</td>\n",
              "      <td>45.786282</td>\n",
              "      <td>blues</td>\n",
              "    </tr>\n",
              "    <tr>\n",
              "      <th>2</th>\n",
              "      <td>blues.00002.wav</td>\n",
              "      <td>661794</td>\n",
              "      <td>0.363637</td>\n",
              "      <td>0.085275</td>\n",
              "      <td>0.175570</td>\n",
              "      <td>0.002746</td>\n",
              "      <td>1552.811865</td>\n",
              "      <td>156467.643368</td>\n",
              "      <td>1747.702312</td>\n",
              "      <td>76254.192257</td>\n",
              "      <td>...</td>\n",
              "      <td>40.598766</td>\n",
              "      <td>-7.729093</td>\n",
              "      <td>47.639427</td>\n",
              "      <td>-1.816407</td>\n",
              "      <td>52.382141</td>\n",
              "      <td>-3.439720</td>\n",
              "      <td>46.639660</td>\n",
              "      <td>-2.231258</td>\n",
              "      <td>30.573025</td>\n",
              "      <td>blues</td>\n",
              "    </tr>\n",
              "    <tr>\n",
              "      <th>3</th>\n",
              "      <td>blues.00003.wav</td>\n",
              "      <td>661794</td>\n",
              "      <td>0.404785</td>\n",
              "      <td>0.093999</td>\n",
              "      <td>0.141093</td>\n",
              "      <td>0.006346</td>\n",
              "      <td>1070.106615</td>\n",
              "      <td>184355.942417</td>\n",
              "      <td>1596.412872</td>\n",
              "      <td>166441.494769</td>\n",
              "      <td>...</td>\n",
              "      <td>44.427753</td>\n",
              "      <td>-3.319597</td>\n",
              "      <td>50.206673</td>\n",
              "      <td>0.636965</td>\n",
              "      <td>37.319130</td>\n",
              "      <td>-0.619121</td>\n",
              "      <td>37.259739</td>\n",
              "      <td>-3.407448</td>\n",
              "      <td>31.949339</td>\n",
              "      <td>blues</td>\n",
              "    </tr>\n",
              "    <tr>\n",
              "      <th>4</th>\n",
              "      <td>blues.00004.wav</td>\n",
              "      <td>661794</td>\n",
              "      <td>0.308526</td>\n",
              "      <td>0.087841</td>\n",
              "      <td>0.091529</td>\n",
              "      <td>0.002303</td>\n",
              "      <td>1835.004266</td>\n",
              "      <td>343399.939274</td>\n",
              "      <td>1748.172116</td>\n",
              "      <td>88445.209036</td>\n",
              "      <td>...</td>\n",
              "      <td>86.099236</td>\n",
              "      <td>-5.454034</td>\n",
              "      <td>75.269707</td>\n",
              "      <td>-0.916874</td>\n",
              "      <td>53.613918</td>\n",
              "      <td>-4.404827</td>\n",
              "      <td>62.910812</td>\n",
              "      <td>-11.703234</td>\n",
              "      <td>55.195160</td>\n",
              "      <td>blues</td>\n",
              "    </tr>\n",
              "    <tr>\n",
              "      <th>...</th>\n",
              "      <td>...</td>\n",
              "      <td>...</td>\n",
              "      <td>...</td>\n",
              "      <td>...</td>\n",
              "      <td>...</td>\n",
              "      <td>...</td>\n",
              "      <td>...</td>\n",
              "      <td>...</td>\n",
              "      <td>...</td>\n",
              "      <td>...</td>\n",
              "      <td>...</td>\n",
              "      <td>...</td>\n",
              "      <td>...</td>\n",
              "      <td>...</td>\n",
              "      <td>...</td>\n",
              "      <td>...</td>\n",
              "      <td>...</td>\n",
              "      <td>...</td>\n",
              "      <td>...</td>\n",
              "      <td>...</td>\n",
              "      <td>...</td>\n",
              "    </tr>\n",
              "    <tr>\n",
              "      <th>995</th>\n",
              "      <td>rock.00095.wav</td>\n",
              "      <td>661794</td>\n",
              "      <td>0.352063</td>\n",
              "      <td>0.080487</td>\n",
              "      <td>0.079486</td>\n",
              "      <td>0.000345</td>\n",
              "      <td>2008.149458</td>\n",
              "      <td>282174.689224</td>\n",
              "      <td>2106.541053</td>\n",
              "      <td>88609.749506</td>\n",
              "      <td>...</td>\n",
              "      <td>45.050526</td>\n",
              "      <td>-13.289984</td>\n",
              "      <td>41.754955</td>\n",
              "      <td>2.484145</td>\n",
              "      <td>36.778877</td>\n",
              "      <td>-6.713265</td>\n",
              "      <td>54.866825</td>\n",
              "      <td>-1.193787</td>\n",
              "      <td>49.950665</td>\n",
              "      <td>rock</td>\n",
              "    </tr>\n",
              "    <tr>\n",
              "      <th>996</th>\n",
              "      <td>rock.00096.wav</td>\n",
              "      <td>661794</td>\n",
              "      <td>0.398687</td>\n",
              "      <td>0.075086</td>\n",
              "      <td>0.076458</td>\n",
              "      <td>0.000588</td>\n",
              "      <td>2006.843354</td>\n",
              "      <td>182114.709510</td>\n",
              "      <td>2068.942009</td>\n",
              "      <td>82426.016726</td>\n",
              "      <td>...</td>\n",
              "      <td>33.851742</td>\n",
              "      <td>-10.848309</td>\n",
              "      <td>39.395096</td>\n",
              "      <td>1.881229</td>\n",
              "      <td>32.010040</td>\n",
              "      <td>-7.461491</td>\n",
              "      <td>39.196327</td>\n",
              "      <td>-2.795338</td>\n",
              "      <td>31.773624</td>\n",
              "      <td>rock</td>\n",
              "    </tr>\n",
              "    <tr>\n",
              "      <th>997</th>\n",
              "      <td>rock.00097.wav</td>\n",
              "      <td>661794</td>\n",
              "      <td>0.432142</td>\n",
              "      <td>0.075268</td>\n",
              "      <td>0.081651</td>\n",
              "      <td>0.000322</td>\n",
              "      <td>2077.526598</td>\n",
              "      <td>231657.968040</td>\n",
              "      <td>1927.293153</td>\n",
              "      <td>74717.124394</td>\n",
              "      <td>...</td>\n",
              "      <td>33.597008</td>\n",
              "      <td>-12.845291</td>\n",
              "      <td>36.367264</td>\n",
              "      <td>3.440978</td>\n",
              "      <td>36.001110</td>\n",
              "      <td>-12.588070</td>\n",
              "      <td>42.502201</td>\n",
              "      <td>-2.106337</td>\n",
              "      <td>29.865515</td>\n",
              "      <td>rock</td>\n",
              "    </tr>\n",
              "    <tr>\n",
              "      <th>998</th>\n",
              "      <td>rock.00098.wav</td>\n",
              "      <td>661794</td>\n",
              "      <td>0.362485</td>\n",
              "      <td>0.091506</td>\n",
              "      <td>0.083860</td>\n",
              "      <td>0.001211</td>\n",
              "      <td>1398.699344</td>\n",
              "      <td>240318.731073</td>\n",
              "      <td>1818.450280</td>\n",
              "      <td>109090.207161</td>\n",
              "      <td>...</td>\n",
              "      <td>46.324894</td>\n",
              "      <td>-4.416050</td>\n",
              "      <td>43.583942</td>\n",
              "      <td>1.556207</td>\n",
              "      <td>34.331261</td>\n",
              "      <td>-5.041897</td>\n",
              "      <td>47.227180</td>\n",
              "      <td>-3.590644</td>\n",
              "      <td>41.299088</td>\n",
              "      <td>rock</td>\n",
              "    </tr>\n",
              "    <tr>\n",
              "      <th>999</th>\n",
              "      <td>rock.00099.wav</td>\n",
              "      <td>661794</td>\n",
              "      <td>0.358401</td>\n",
              "      <td>0.085884</td>\n",
              "      <td>0.054454</td>\n",
              "      <td>0.000336</td>\n",
              "      <td>1609.795082</td>\n",
              "      <td>422203.216152</td>\n",
              "      <td>1797.213044</td>\n",
              "      <td>120115.632927</td>\n",
              "      <td>...</td>\n",
              "      <td>59.167755</td>\n",
              "      <td>-7.069775</td>\n",
              "      <td>73.760391</td>\n",
              "      <td>0.028346</td>\n",
              "      <td>76.504326</td>\n",
              "      <td>-2.025783</td>\n",
              "      <td>72.189316</td>\n",
              "      <td>1.155239</td>\n",
              "      <td>49.662510</td>\n",
              "      <td>rock</td>\n",
              "    </tr>\n",
              "  </tbody>\n",
              "</table>\n",
              "<p>1000 rows × 60 columns</p>\n",
              "</div>"
            ],
            "text/plain": [
              "            filename  length  chroma_stft_mean  chroma_stft_var  rms_mean  \\\n",
              "0    blues.00000.wav  661794          0.350088         0.088757  0.130228   \n",
              "1    blues.00001.wav  661794          0.340914         0.094980  0.095948   \n",
              "2    blues.00002.wav  661794          0.363637         0.085275  0.175570   \n",
              "3    blues.00003.wav  661794          0.404785         0.093999  0.141093   \n",
              "4    blues.00004.wav  661794          0.308526         0.087841  0.091529   \n",
              "..               ...     ...               ...              ...       ...   \n",
              "995   rock.00095.wav  661794          0.352063         0.080487  0.079486   \n",
              "996   rock.00096.wav  661794          0.398687         0.075086  0.076458   \n",
              "997   rock.00097.wav  661794          0.432142         0.075268  0.081651   \n",
              "998   rock.00098.wav  661794          0.362485         0.091506  0.083860   \n",
              "999   rock.00099.wav  661794          0.358401         0.085884  0.054454   \n",
              "\n",
              "      rms_var  spectral_centroid_mean  spectral_centroid_var  \\\n",
              "0    0.002827             1784.165850          129774.064525   \n",
              "1    0.002373             1530.176679          375850.073649   \n",
              "2    0.002746             1552.811865          156467.643368   \n",
              "3    0.006346             1070.106615          184355.942417   \n",
              "4    0.002303             1835.004266          343399.939274   \n",
              "..        ...                     ...                    ...   \n",
              "995  0.000345             2008.149458          282174.689224   \n",
              "996  0.000588             2006.843354          182114.709510   \n",
              "997  0.000322             2077.526598          231657.968040   \n",
              "998  0.001211             1398.699344          240318.731073   \n",
              "999  0.000336             1609.795082          422203.216152   \n",
              "\n",
              "     spectral_bandwidth_mean  spectral_bandwidth_var  ...  mfcc16_var  \\\n",
              "0                2002.449060            85882.761315  ...   52.420910   \n",
              "1                2039.036516           213843.755497  ...   55.356403   \n",
              "2                1747.702312            76254.192257  ...   40.598766   \n",
              "3                1596.412872           166441.494769  ...   44.427753   \n",
              "4                1748.172116            88445.209036  ...   86.099236   \n",
              "..                       ...                     ...  ...         ...   \n",
              "995              2106.541053            88609.749506  ...   45.050526   \n",
              "996              2068.942009            82426.016726  ...   33.851742   \n",
              "997              1927.293153            74717.124394  ...   33.597008   \n",
              "998              1818.450280           109090.207161  ...   46.324894   \n",
              "999              1797.213044           120115.632927  ...   59.167755   \n",
              "\n",
              "     mfcc17_mean  mfcc17_var  mfcc18_mean  mfcc18_var  mfcc19_mean  \\\n",
              "0      -1.690215   36.524071    -0.408979   41.597103    -2.303523   \n",
              "1      -0.731125   60.314529     0.295073   48.120598    -0.283518   \n",
              "2      -7.729093   47.639427    -1.816407   52.382141    -3.439720   \n",
              "3      -3.319597   50.206673     0.636965   37.319130    -0.619121   \n",
              "4      -5.454034   75.269707    -0.916874   53.613918    -4.404827   \n",
              "..           ...         ...          ...         ...          ...   \n",
              "995   -13.289984   41.754955     2.484145   36.778877    -6.713265   \n",
              "996   -10.848309   39.395096     1.881229   32.010040    -7.461491   \n",
              "997   -12.845291   36.367264     3.440978   36.001110   -12.588070   \n",
              "998    -4.416050   43.583942     1.556207   34.331261    -5.041897   \n",
              "999    -7.069775   73.760391     0.028346   76.504326    -2.025783   \n",
              "\n",
              "     mfcc19_var  mfcc20_mean  mfcc20_var  label  \n",
              "0     55.062923     1.221291   46.936035  blues  \n",
              "1     51.106190     0.531217   45.786282  blues  \n",
              "2     46.639660    -2.231258   30.573025  blues  \n",
              "3     37.259739    -3.407448   31.949339  blues  \n",
              "4     62.910812   -11.703234   55.195160  blues  \n",
              "..          ...          ...         ...    ...  \n",
              "995   54.866825    -1.193787   49.950665   rock  \n",
              "996   39.196327    -2.795338   31.773624   rock  \n",
              "997   42.502201    -2.106337   29.865515   rock  \n",
              "998   47.227180    -3.590644   41.299088   rock  \n",
              "999   72.189316     1.155239   49.662510   rock  \n",
              "\n",
              "[1000 rows x 60 columns]"
            ]
          },
          "execution_count": 2,
          "metadata": {},
          "output_type": "execute_result"
        }
      ],
      "source": [
        "df=pd.read_csv('features_30_sec.csv')\n",
        "df"
      ]
    },
    {
      "cell_type": "code",
      "execution_count": null,
      "id": "f86865cb",
      "metadata": {
        "id": "f86865cb"
      },
      "outputs": [],
      "source": [
        "df=df.drop('filename',axis=1)"
      ]
    },
    {
      "cell_type": "code",
      "execution_count": null,
      "id": "493bfa12",
      "metadata": {
        "id": "493bfa12"
      },
      "outputs": [],
      "source": [
        "from sklearn.preprocessing import LabelEncoder"
      ]
    },
    {
      "cell_type": "code",
      "execution_count": null,
      "id": "856a6732",
      "metadata": {
        "id": "856a6732"
      },
      "outputs": [],
      "source": [
        "labelenc=LabelEncoder()"
      ]
    },
    {
      "cell_type": "code",
      "execution_count": null,
      "id": "f7b4fe68",
      "metadata": {
        "id": "f7b4fe68"
      },
      "outputs": [],
      "source": [
        "df['label']=labelenc.fit_transform(df['label'])"
      ]
    },
    {
      "cell_type": "code",
      "execution_count": null,
      "id": "f2db97c0",
      "metadata": {
        "id": "f2db97c0",
        "outputId": "ce9048c8-8aa1-4205-c866-b291a430e25c"
      },
      "outputs": [
        {
          "data": {
            "text/plain": [
              "0      0\n",
              "1      0\n",
              "2      0\n",
              "3      0\n",
              "4      0\n",
              "      ..\n",
              "995    9\n",
              "996    9\n",
              "997    9\n",
              "998    9\n",
              "999    9\n",
              "Name: label, Length: 1000, dtype: int32"
            ]
          },
          "execution_count": 84,
          "metadata": {},
          "output_type": "execute_result"
        }
      ],
      "source": [
        "df['label']"
      ]
    },
    {
      "cell_type": "code",
      "execution_count": null,
      "id": "391e7db0",
      "metadata": {
        "id": "391e7db0"
      },
      "outputs": [],
      "source": [
        "from tensorflow.keras.utils import to_categorical\n",
        "y=to_categorical(df['label'])"
      ]
    },
    {
      "cell_type": "code",
      "execution_count": null,
      "id": "efd094f8",
      "metadata": {
        "id": "efd094f8"
      },
      "outputs": [],
      "source": [
        "df_X=df.drop('label',axis=1).values"
      ]
    },
    {
      "cell_type": "code",
      "execution_count": null,
      "id": "aab42443",
      "metadata": {
        "id": "aab42443"
      },
      "outputs": [],
      "source": [
        "from sklearn.model_selection import train_test_split"
      ]
    },
    {
      "cell_type": "code",
      "execution_count": null,
      "id": "b40b8a60",
      "metadata": {
        "id": "b40b8a60"
      },
      "outputs": [],
      "source": [
        "X_train, X_test, y_train, y_test = train_test_split(df_X,y, test_size=0.3, random_state=42)"
      ]
    },
    {
      "cell_type": "code",
      "execution_count": null,
      "id": "7443359b",
      "metadata": {
        "id": "7443359b"
      },
      "outputs": [],
      "source": [
        "from sklearn.preprocessing import MinMaxScaler"
      ]
    },
    {
      "cell_type": "code",
      "execution_count": null,
      "id": "1efc3152",
      "metadata": {
        "id": "1efc3152"
      },
      "outputs": [],
      "source": [
        "scaler=MinMaxScaler()"
      ]
    },
    {
      "cell_type": "code",
      "execution_count": null,
      "id": "28e64efd",
      "metadata": {
        "id": "28e64efd"
      },
      "outputs": [],
      "source": [
        "X_train=scaler.fit_transform(X_train)"
      ]
    },
    {
      "cell_type": "code",
      "execution_count": null,
      "id": "bac609da",
      "metadata": {
        "id": "bac609da"
      },
      "outputs": [],
      "source": [
        "X_test=scaler.transform(X_test)"
      ]
    },
    {
      "cell_type": "code",
      "execution_count": null,
      "id": "3d51f29f",
      "metadata": {
        "id": "3d51f29f"
      },
      "outputs": [],
      "source": [
        "from tensorflow.keras.models import Sequential\n",
        "from tensorflow.keras.layers import Dense,Dropout"
      ]
    },
    {
      "cell_type": "code",
      "execution_count": null,
      "id": "4c30552c",
      "metadata": {
        "id": "4c30552c"
      },
      "outputs": [],
      "source": [
        "X_train.shape"
      ]
    },
    {
      "cell_type": "code",
      "execution_count": null,
      "id": "81df3d24",
      "metadata": {
        "id": "81df3d24"
      },
      "outputs": [],
      "source": [
        "model=Sequential()\n",
        "\n",
        "model.add(Dense(58,activation='relu'))\n",
        "model.add(Dropout(0.5))\n",
        "\n",
        "model.add(Dense(58,activation='relu'))\n",
        "model.add(Dropout(0.5))\n",
        "\n",
        "model.add(Dense(58,activation='relu'))\n",
        "model.add(Dropout(0.5))\n",
        "\n",
        "model.add(Dense(10,activation='softmax'))\n",
        "\n",
        "model.compile(optimizer='adam',loss='categorical_crossentropy',metrics=['accuracy'])"
      ]
    },
    {
      "cell_type": "code",
      "execution_count": null,
      "id": "e6690c99",
      "metadata": {
        "id": "e6690c99"
      },
      "outputs": [],
      "source": [
        "from tensorflow.keras.callbacks import EarlyStopping\n",
        "earlystop=EarlyStopping(monitor='val_loss',mode='min',verbose=1,patience=15)"
      ]
    },
    {
      "cell_type": "code",
      "execution_count": null,
      "id": "54f445fb",
      "metadata": {
        "id": "54f445fb",
        "outputId": "7452b77f-da48-488c-a5ea-71653e6cf5ae"
      },
      "outputs": [
        {
          "name": "stdout",
          "output_type": "stream",
          "text": [
            "Epoch 1/100\n",
            "\u001b[1m22/22\u001b[0m \u001b[32m━━━━━━━━━━━━━━━━━━━━\u001b[0m\u001b[37m\u001b[0m \u001b[1m5s\u001b[0m 21ms/step - accuracy: 0.1014 - loss: 2.4070 - val_accuracy: 0.1433 - val_loss: 2.2954\n",
            "Epoch 2/100\n",
            "\u001b[1m22/22\u001b[0m \u001b[32m━━━━━━━━━━━━━━━━━━━━\u001b[0m\u001b[37m\u001b[0m \u001b[1m0s\u001b[0m 5ms/step - accuracy: 0.1028 - loss: 2.3095 - val_accuracy: 0.0800 - val_loss: 2.2949\n",
            "Epoch 3/100\n",
            "\u001b[1m22/22\u001b[0m \u001b[32m━━━━━━━━━━━━━━━━━━━━\u001b[0m\u001b[37m\u001b[0m \u001b[1m0s\u001b[0m 5ms/step - accuracy: 0.1094 - loss: 2.2967 - val_accuracy: 0.1033 - val_loss: 2.2907\n",
            "Epoch 4/100\n",
            "\u001b[1m22/22\u001b[0m \u001b[32m━━━━━━━━━━━━━━━━━━━━\u001b[0m\u001b[37m\u001b[0m \u001b[1m0s\u001b[0m 5ms/step - accuracy: 0.1308 - loss: 2.2774 - val_accuracy: 0.2167 - val_loss: 2.2758\n",
            "Epoch 5/100\n",
            "\u001b[1m22/22\u001b[0m \u001b[32m━━━━━━━━━━━━━━━━━━━━\u001b[0m\u001b[37m\u001b[0m \u001b[1m0s\u001b[0m 6ms/step - accuracy: 0.1130 - loss: 2.2709 - val_accuracy: 0.2333 - val_loss: 2.2639\n",
            "Epoch 6/100\n",
            "\u001b[1m22/22\u001b[0m \u001b[32m━━━━━━━━━━━━━━━━━━━━\u001b[0m\u001b[37m\u001b[0m \u001b[1m0s\u001b[0m 5ms/step - accuracy: 0.1785 - loss: 2.2563 - val_accuracy: 0.2333 - val_loss: 2.2428\n",
            "Epoch 7/100\n",
            "\u001b[1m22/22\u001b[0m \u001b[32m━━━━━━━━━━━━━━━━━━━━\u001b[0m\u001b[37m\u001b[0m \u001b[1m0s\u001b[0m 5ms/step - accuracy: 0.1747 - loss: 2.2324 - val_accuracy: 0.2433 - val_loss: 2.2038\n",
            "Epoch 8/100\n",
            "\u001b[1m22/22\u001b[0m \u001b[32m━━━━━━━━━━━━━━━━━━━━\u001b[0m\u001b[37m\u001b[0m \u001b[1m0s\u001b[0m 5ms/step - accuracy: 0.2279 - loss: 2.1612 - val_accuracy: 0.2400 - val_loss: 2.1595\n",
            "Epoch 9/100\n",
            "\u001b[1m22/22\u001b[0m \u001b[32m━━━━━━━━━━━━━━━━━━━━\u001b[0m\u001b[37m\u001b[0m \u001b[1m0s\u001b[0m 5ms/step - accuracy: 0.2217 - loss: 2.1562 - val_accuracy: 0.2600 - val_loss: 2.1119\n",
            "Epoch 10/100\n",
            "\u001b[1m22/22\u001b[0m \u001b[32m━━━━━━━━━━━━━━━━━━━━\u001b[0m\u001b[37m\u001b[0m \u001b[1m0s\u001b[0m 5ms/step - accuracy: 0.2192 - loss: 2.1153 - val_accuracy: 0.2567 - val_loss: 2.0716\n",
            "Epoch 11/100\n",
            "\u001b[1m22/22\u001b[0m \u001b[32m━━━━━━━━━━━━━━━━━━━━\u001b[0m\u001b[37m\u001b[0m \u001b[1m0s\u001b[0m 4ms/step - accuracy: 0.2940 - loss: 2.0416 - val_accuracy: 0.2433 - val_loss: 2.0219\n",
            "Epoch 12/100\n",
            "\u001b[1m22/22\u001b[0m \u001b[32m━━━━━━━━━━━━━━━━━━━━\u001b[0m\u001b[37m\u001b[0m \u001b[1m0s\u001b[0m 4ms/step - accuracy: 0.2987 - loss: 2.0071 - val_accuracy: 0.2533 - val_loss: 1.9811\n",
            "Epoch 13/100\n",
            "\u001b[1m22/22\u001b[0m \u001b[32m━━━━━━━━━━━━━━━━━━━━\u001b[0m\u001b[37m\u001b[0m \u001b[1m0s\u001b[0m 4ms/step - accuracy: 0.2622 - loss: 2.0058 - val_accuracy: 0.2467 - val_loss: 1.9508\n",
            "Epoch 14/100\n",
            "\u001b[1m22/22\u001b[0m \u001b[32m━━━━━━━━━━━━━━━━━━━━\u001b[0m\u001b[37m\u001b[0m \u001b[1m0s\u001b[0m 4ms/step - accuracy: 0.2777 - loss: 1.9591 - val_accuracy: 0.2467 - val_loss: 1.9140\n",
            "Epoch 15/100\n",
            "\u001b[1m22/22\u001b[0m \u001b[32m━━━━━━━━━━━━━━━━━━━━\u001b[0m\u001b[37m\u001b[0m \u001b[1m0s\u001b[0m 4ms/step - accuracy: 0.2938 - loss: 1.9116 - val_accuracy: 0.2733 - val_loss: 1.8943\n",
            "Epoch 16/100\n",
            "\u001b[1m22/22\u001b[0m \u001b[32m━━━━━━━━━━━━━━━━━━━━\u001b[0m\u001b[37m\u001b[0m \u001b[1m0s\u001b[0m 4ms/step - accuracy: 0.3184 - loss: 1.8678 - val_accuracy: 0.2667 - val_loss: 1.8582\n",
            "Epoch 17/100\n",
            "\u001b[1m22/22\u001b[0m \u001b[32m━━━━━━━━━━━━━━━━━━━━\u001b[0m\u001b[37m\u001b[0m \u001b[1m0s\u001b[0m 4ms/step - accuracy: 0.3021 - loss: 1.9238 - val_accuracy: 0.2833 - val_loss: 1.8217\n",
            "Epoch 18/100\n",
            "\u001b[1m22/22\u001b[0m \u001b[32m━━━━━━━━━━━━━━━━━━━━\u001b[0m\u001b[37m\u001b[0m \u001b[1m0s\u001b[0m 4ms/step - accuracy: 0.3043 - loss: 1.8663 - val_accuracy: 0.2833 - val_loss: 1.7901\n",
            "Epoch 19/100\n",
            "\u001b[1m22/22\u001b[0m \u001b[32m━━━━━━━━━━━━━━━━━━━━\u001b[0m\u001b[37m\u001b[0m \u001b[1m0s\u001b[0m 4ms/step - accuracy: 0.3444 - loss: 1.7734 - val_accuracy: 0.2833 - val_loss: 1.7747\n",
            "Epoch 20/100\n",
            "\u001b[1m22/22\u001b[0m \u001b[32m━━━━━━━━━━━━━━━━━━━━\u001b[0m\u001b[37m\u001b[0m \u001b[1m0s\u001b[0m 4ms/step - accuracy: 0.3408 - loss: 1.7931 - val_accuracy: 0.2867 - val_loss: 1.7544\n",
            "Epoch 21/100\n",
            "\u001b[1m22/22\u001b[0m \u001b[32m━━━━━━━━━━━━━━━━━━━━\u001b[0m\u001b[37m\u001b[0m \u001b[1m0s\u001b[0m 4ms/step - accuracy: 0.3456 - loss: 1.7660 - val_accuracy: 0.2900 - val_loss: 1.7389\n",
            "Epoch 22/100\n",
            "\u001b[1m22/22\u001b[0m \u001b[32m━━━━━━━━━━━━━━━━━━━━\u001b[0m\u001b[37m\u001b[0m \u001b[1m0s\u001b[0m 4ms/step - accuracy: 0.3319 - loss: 1.7592 - val_accuracy: 0.2967 - val_loss: 1.7181\n",
            "Epoch 23/100\n",
            "\u001b[1m22/22\u001b[0m \u001b[32m━━━━━━━━━━━━━━━━━━━━\u001b[0m\u001b[37m\u001b[0m \u001b[1m0s\u001b[0m 4ms/step - accuracy: 0.3329 - loss: 1.7008 - val_accuracy: 0.3067 - val_loss: 1.6978\n",
            "Epoch 24/100\n",
            "\u001b[1m22/22\u001b[0m \u001b[32m━━━━━━━━━━━━━━━━━━━━\u001b[0m\u001b[37m\u001b[0m \u001b[1m0s\u001b[0m 4ms/step - accuracy: 0.3440 - loss: 1.6874 - val_accuracy: 0.3000 - val_loss: 1.6919\n",
            "Epoch 25/100\n",
            "\u001b[1m22/22\u001b[0m \u001b[32m━━━━━━━━━━━━━━━━━━━━\u001b[0m\u001b[37m\u001b[0m \u001b[1m0s\u001b[0m 4ms/step - accuracy: 0.3682 - loss: 1.6802 - val_accuracy: 0.3133 - val_loss: 1.6507\n",
            "Epoch 26/100\n",
            "\u001b[1m22/22\u001b[0m \u001b[32m━━━━━━━━━━━━━━━━━━━━\u001b[0m\u001b[37m\u001b[0m \u001b[1m0s\u001b[0m 4ms/step - accuracy: 0.3413 - loss: 1.6911 - val_accuracy: 0.3167 - val_loss: 1.6577\n",
            "Epoch 27/100\n",
            "\u001b[1m22/22\u001b[0m \u001b[32m━━━━━━━━━━━━━━━━━━━━\u001b[0m\u001b[37m\u001b[0m \u001b[1m0s\u001b[0m 4ms/step - accuracy: 0.3375 - loss: 1.6635 - val_accuracy: 0.3467 - val_loss: 1.6372\n",
            "Epoch 28/100\n",
            "\u001b[1m22/22\u001b[0m \u001b[32m━━━━━━━━━━━━━━━━━━━━\u001b[0m\u001b[37m\u001b[0m \u001b[1m0s\u001b[0m 4ms/step - accuracy: 0.3753 - loss: 1.6481 - val_accuracy: 0.3600 - val_loss: 1.6163\n",
            "Epoch 29/100\n",
            "\u001b[1m22/22\u001b[0m \u001b[32m━━━━━━━━━━━━━━━━━━━━\u001b[0m\u001b[37m\u001b[0m \u001b[1m0s\u001b[0m 4ms/step - accuracy: 0.3771 - loss: 1.6103 - val_accuracy: 0.3467 - val_loss: 1.6056\n",
            "Epoch 30/100\n",
            "\u001b[1m22/22\u001b[0m \u001b[32m━━━━━━━━━━━━━━━━━━━━\u001b[0m\u001b[37m\u001b[0m \u001b[1m0s\u001b[0m 4ms/step - accuracy: 0.3878 - loss: 1.6338 - val_accuracy: 0.3533 - val_loss: 1.6213\n",
            "Epoch 31/100\n",
            "\u001b[1m22/22\u001b[0m \u001b[32m━━━━━━━━━━━━━━━━━━━━\u001b[0m\u001b[37m\u001b[0m \u001b[1m0s\u001b[0m 4ms/step - accuracy: 0.3614 - loss: 1.6704 - val_accuracy: 0.3800 - val_loss: 1.6004\n",
            "Epoch 32/100\n",
            "\u001b[1m22/22\u001b[0m \u001b[32m━━━━━━━━━━━━━━━━━━━━\u001b[0m\u001b[37m\u001b[0m \u001b[1m0s\u001b[0m 4ms/step - accuracy: 0.4024 - loss: 1.5714 - val_accuracy: 0.4100 - val_loss: 1.5760\n",
            "Epoch 33/100\n",
            "\u001b[1m22/22\u001b[0m \u001b[32m━━━━━━━━━━━━━━━━━━━━\u001b[0m\u001b[37m\u001b[0m \u001b[1m0s\u001b[0m 4ms/step - accuracy: 0.4356 - loss: 1.5143 - val_accuracy: 0.3867 - val_loss: 1.5691\n",
            "Epoch 34/100\n",
            "\u001b[1m22/22\u001b[0m \u001b[32m━━━━━━━━━━━━━━━━━━━━\u001b[0m\u001b[37m\u001b[0m \u001b[1m0s\u001b[0m 4ms/step - accuracy: 0.3976 - loss: 1.5561 - val_accuracy: 0.4067 - val_loss: 1.5411\n",
            "Epoch 35/100\n",
            "\u001b[1m22/22\u001b[0m \u001b[32m━━━━━━━━━━━━━━━━━━━━\u001b[0m\u001b[37m\u001b[0m \u001b[1m0s\u001b[0m 4ms/step - accuracy: 0.3885 - loss: 1.5521 - val_accuracy: 0.3967 - val_loss: 1.5483\n",
            "Epoch 36/100\n",
            "\u001b[1m22/22\u001b[0m \u001b[32m━━━━━━━━━━━━━━━━━━━━\u001b[0m\u001b[37m\u001b[0m \u001b[1m0s\u001b[0m 4ms/step - accuracy: 0.4208 - loss: 1.5342 - val_accuracy: 0.3933 - val_loss: 1.5409\n",
            "Epoch 37/100\n",
            "\u001b[1m22/22\u001b[0m \u001b[32m━━━━━━━━━━━━━━━━━━━━\u001b[0m\u001b[37m\u001b[0m \u001b[1m0s\u001b[0m 4ms/step - accuracy: 0.4032 - loss: 1.4997 - val_accuracy: 0.4033 - val_loss: 1.5377\n",
            "Epoch 38/100\n",
            "\u001b[1m22/22\u001b[0m \u001b[32m━━━━━━━━━━━━━━━━━━━━\u001b[0m\u001b[37m\u001b[0m \u001b[1m0s\u001b[0m 4ms/step - accuracy: 0.4163 - loss: 1.5025 - val_accuracy: 0.4100 - val_loss: 1.5127\n",
            "Epoch 39/100\n",
            "\u001b[1m22/22\u001b[0m \u001b[32m━━━━━━━━━━━━━━━━━━━━\u001b[0m\u001b[37m\u001b[0m \u001b[1m0s\u001b[0m 4ms/step - accuracy: 0.4096 - loss: 1.5439 - val_accuracy: 0.4033 - val_loss: 1.5195\n",
            "Epoch 40/100\n",
            "\u001b[1m22/22\u001b[0m \u001b[32m━━━━━━━━━━━━━━━━━━━━\u001b[0m\u001b[37m\u001b[0m \u001b[1m0s\u001b[0m 4ms/step - accuracy: 0.4343 - loss: 1.4899 - val_accuracy: 0.3967 - val_loss: 1.5126\n",
            "Epoch 41/100\n",
            "\u001b[1m22/22\u001b[0m \u001b[32m━━━━━━━━━━━━━━━━━━━━\u001b[0m\u001b[37m\u001b[0m \u001b[1m0s\u001b[0m 4ms/step - accuracy: 0.4292 - loss: 1.4881 - val_accuracy: 0.4200 - val_loss: 1.5383\n",
            "Epoch 42/100\n",
            "\u001b[1m22/22\u001b[0m \u001b[32m━━━━━━━━━━━━━━━━━━━━\u001b[0m\u001b[37m\u001b[0m \u001b[1m0s\u001b[0m 4ms/step - accuracy: 0.3888 - loss: 1.5036 - val_accuracy: 0.4200 - val_loss: 1.5038\n",
            "Epoch 43/100\n",
            "\u001b[1m22/22\u001b[0m \u001b[32m━━━━━━━━━━━━━━━━━━━━\u001b[0m\u001b[37m\u001b[0m \u001b[1m0s\u001b[0m 4ms/step - accuracy: 0.4417 - loss: 1.4716 - val_accuracy: 0.4267 - val_loss: 1.4881\n",
            "Epoch 44/100\n",
            "\u001b[1m22/22\u001b[0m \u001b[32m━━━━━━━━━━━━━━━━━━━━\u001b[0m\u001b[37m\u001b[0m \u001b[1m0s\u001b[0m 4ms/step - accuracy: 0.4493 - loss: 1.4859 - val_accuracy: 0.4133 - val_loss: 1.5016\n",
            "Epoch 45/100\n",
            "\u001b[1m22/22\u001b[0m \u001b[32m━━━━━━━━━━━━━━━━━━━━\u001b[0m\u001b[37m\u001b[0m \u001b[1m0s\u001b[0m 4ms/step - accuracy: 0.4278 - loss: 1.5182 - val_accuracy: 0.4400 - val_loss: 1.4734\n",
            "Epoch 46/100\n",
            "\u001b[1m22/22\u001b[0m \u001b[32m━━━━━━━━━━━━━━━━━━━━\u001b[0m\u001b[37m\u001b[0m \u001b[1m0s\u001b[0m 4ms/step - accuracy: 0.4879 - loss: 1.4166 - val_accuracy: 0.4200 - val_loss: 1.4999\n",
            "Epoch 47/100\n",
            "\u001b[1m22/22\u001b[0m \u001b[32m━━━━━━━━━━━━━━━━━━━━\u001b[0m\u001b[37m\u001b[0m \u001b[1m0s\u001b[0m 4ms/step - accuracy: 0.4542 - loss: 1.4228 - val_accuracy: 0.4400 - val_loss: 1.4647\n",
            "Epoch 48/100\n",
            "\u001b[1m22/22\u001b[0m \u001b[32m━━━━━━━━━━━━━━━━━━━━\u001b[0m\u001b[37m\u001b[0m \u001b[1m0s\u001b[0m 4ms/step - accuracy: 0.4665 - loss: 1.4328 - val_accuracy: 0.4300 - val_loss: 1.4877\n",
            "Epoch 49/100\n",
            "\u001b[1m22/22\u001b[0m \u001b[32m━━━━━━━━━━━━━━━━━━━━\u001b[0m\u001b[37m\u001b[0m \u001b[1m0s\u001b[0m 4ms/step - accuracy: 0.4520 - loss: 1.4439 - val_accuracy: 0.4400 - val_loss: 1.4560\n",
            "Epoch 50/100\n",
            "\u001b[1m22/22\u001b[0m \u001b[32m━━━━━━━━━━━━━━━━━━━━\u001b[0m\u001b[37m\u001b[0m \u001b[1m0s\u001b[0m 4ms/step - accuracy: 0.4533 - loss: 1.4253 - val_accuracy: 0.4467 - val_loss: 1.4668\n",
            "Epoch 51/100\n",
            "\u001b[1m22/22\u001b[0m \u001b[32m━━━━━━━━━━━━━━━━━━━━\u001b[0m\u001b[37m\u001b[0m \u001b[1m0s\u001b[0m 4ms/step - accuracy: 0.4580 - loss: 1.4300 - val_accuracy: 0.4533 - val_loss: 1.4348\n",
            "Epoch 52/100\n",
            "\u001b[1m22/22\u001b[0m \u001b[32m━━━━━━━━━━━━━━━━━━━━\u001b[0m\u001b[37m\u001b[0m \u001b[1m0s\u001b[0m 4ms/step - accuracy: 0.4472 - loss: 1.4172 - val_accuracy: 0.4500 - val_loss: 1.4242\n",
            "Epoch 53/100\n",
            "\u001b[1m22/22\u001b[0m \u001b[32m━━━━━━━━━━━━━━━━━━━━\u001b[0m\u001b[37m\u001b[0m \u001b[1m0s\u001b[0m 4ms/step - accuracy: 0.4998 - loss: 1.3440 - val_accuracy: 0.4400 - val_loss: 1.4433\n",
            "Epoch 54/100\n",
            "\u001b[1m22/22\u001b[0m \u001b[32m━━━━━━━━━━━━━━━━━━━━\u001b[0m\u001b[37m\u001b[0m \u001b[1m0s\u001b[0m 4ms/step - accuracy: 0.4911 - loss: 1.3921 - val_accuracy: 0.4400 - val_loss: 1.4105\n",
            "Epoch 55/100\n",
            "\u001b[1m22/22\u001b[0m \u001b[32m━━━━━━━━━━━━━━━━━━━━\u001b[0m\u001b[37m\u001b[0m \u001b[1m0s\u001b[0m 4ms/step - accuracy: 0.4472 - loss: 1.3737 - val_accuracy: 0.4300 - val_loss: 1.4172\n",
            "Epoch 56/100\n",
            "\u001b[1m22/22\u001b[0m \u001b[32m━━━━━━━━━━━━━━━━━━━━\u001b[0m\u001b[37m\u001b[0m \u001b[1m0s\u001b[0m 4ms/step - accuracy: 0.4916 - loss: 1.3590 - val_accuracy: 0.4367 - val_loss: 1.4478\n",
            "Epoch 57/100\n",
            "\u001b[1m22/22\u001b[0m \u001b[32m━━━━━━━━━━━━━━━━━━━━\u001b[0m\u001b[37m\u001b[0m \u001b[1m0s\u001b[0m 4ms/step - accuracy: 0.4728 - loss: 1.4083 - val_accuracy: 0.4433 - val_loss: 1.4033\n",
            "Epoch 58/100\n",
            "\u001b[1m22/22\u001b[0m \u001b[32m━━━━━━━━━━━━━━━━━━━━\u001b[0m\u001b[37m\u001b[0m \u001b[1m0s\u001b[0m 4ms/step - accuracy: 0.5024 - loss: 1.3294 - val_accuracy: 0.4533 - val_loss: 1.3888\n",
            "Epoch 59/100\n",
            "\u001b[1m22/22\u001b[0m \u001b[32m━━━━━━━━━━━━━━━━━━━━\u001b[0m\u001b[37m\u001b[0m \u001b[1m0s\u001b[0m 4ms/step - accuracy: 0.5269 - loss: 1.3497 - val_accuracy: 0.4500 - val_loss: 1.3823\n",
            "Epoch 60/100\n",
            "\u001b[1m22/22\u001b[0m \u001b[32m━━━━━━━━━━━━━━━━━━━━\u001b[0m\u001b[37m\u001b[0m \u001b[1m0s\u001b[0m 4ms/step - accuracy: 0.4908 - loss: 1.4315 - val_accuracy: 0.4567 - val_loss: 1.4024\n",
            "Epoch 61/100\n",
            "\u001b[1m22/22\u001b[0m \u001b[32m━━━━━━━━━━━━━━━━━━━━\u001b[0m\u001b[37m\u001b[0m \u001b[1m0s\u001b[0m 4ms/step - accuracy: 0.4975 - loss: 1.3702 - val_accuracy: 0.4533 - val_loss: 1.3822\n",
            "Epoch 62/100\n",
            "\u001b[1m22/22\u001b[0m \u001b[32m━━━━━━━━━━━━━━━━━━━━\u001b[0m\u001b[37m\u001b[0m \u001b[1m0s\u001b[0m 4ms/step - accuracy: 0.4985 - loss: 1.3108 - val_accuracy: 0.4600 - val_loss: 1.3823\n",
            "Epoch 63/100\n",
            "\u001b[1m22/22\u001b[0m \u001b[32m━━━━━━━━━━━━━━━━━━━━\u001b[0m\u001b[37m\u001b[0m \u001b[1m0s\u001b[0m 4ms/step - accuracy: 0.5224 - loss: 1.2812 - val_accuracy: 0.4833 - val_loss: 1.3672\n",
            "Epoch 64/100\n",
            "\u001b[1m22/22\u001b[0m \u001b[32m━━━━━━━━━━━━━━━━━━━━\u001b[0m\u001b[37m\u001b[0m \u001b[1m0s\u001b[0m 4ms/step - accuracy: 0.4479 - loss: 1.3602 - val_accuracy: 0.4800 - val_loss: 1.4121\n",
            "Epoch 65/100\n",
            "\u001b[1m22/22\u001b[0m \u001b[32m━━━━━━━━━━━━━━━━━━━━\u001b[0m\u001b[37m\u001b[0m \u001b[1m0s\u001b[0m 4ms/step - accuracy: 0.5264 - loss: 1.2827 - val_accuracy: 0.4633 - val_loss: 1.3763\n",
            "Epoch 66/100\n",
            "\u001b[1m22/22\u001b[0m \u001b[32m━━━━━━━━━━━━━━━━━━━━\u001b[0m\u001b[37m\u001b[0m \u001b[1m0s\u001b[0m 4ms/step - accuracy: 0.4907 - loss: 1.3332 - val_accuracy: 0.4833 - val_loss: 1.3406\n",
            "Epoch 67/100\n",
            "\u001b[1m22/22\u001b[0m \u001b[32m━━━━━━━━━━━━━━━━━━━━\u001b[0m\u001b[37m\u001b[0m \u001b[1m0s\u001b[0m 4ms/step - accuracy: 0.5169 - loss: 1.3326 - val_accuracy: 0.4833 - val_loss: 1.3440\n",
            "Epoch 68/100\n",
            "\u001b[1m22/22\u001b[0m \u001b[32m━━━━━━━━━━━━━━━━━━━━\u001b[0m\u001b[37m\u001b[0m \u001b[1m0s\u001b[0m 4ms/step - accuracy: 0.5365 - loss: 1.3112 - val_accuracy: 0.4533 - val_loss: 1.3813\n",
            "Epoch 69/100\n",
            "\u001b[1m22/22\u001b[0m \u001b[32m━━━━━━━━━━━━━━━━━━━━\u001b[0m\u001b[37m\u001b[0m \u001b[1m0s\u001b[0m 4ms/step - accuracy: 0.5302 - loss: 1.2732 - val_accuracy: 0.5100 - val_loss: 1.3225\n",
            "Epoch 70/100\n",
            "\u001b[1m22/22\u001b[0m \u001b[32m━━━━━━━━━━━━━━━━━━━━\u001b[0m\u001b[37m\u001b[0m \u001b[1m0s\u001b[0m 5ms/step - accuracy: 0.5247 - loss: 1.2640 - val_accuracy: 0.4667 - val_loss: 1.3351\n",
            "Epoch 71/100\n",
            "\u001b[1m22/22\u001b[0m \u001b[32m━━━━━━━━━━━━━━━━━━━━\u001b[0m\u001b[37m\u001b[0m \u001b[1m0s\u001b[0m 4ms/step - accuracy: 0.4845 - loss: 1.2850 - val_accuracy: 0.4933 - val_loss: 1.3306\n",
            "Epoch 72/100\n",
            "\u001b[1m22/22\u001b[0m \u001b[32m━━━━━━━━━━━━━━━━━━━━\u001b[0m\u001b[37m\u001b[0m \u001b[1m0s\u001b[0m 4ms/step - accuracy: 0.5081 - loss: 1.3387 - val_accuracy: 0.4767 - val_loss: 1.3581\n",
            "Epoch 73/100\n",
            "\u001b[1m22/22\u001b[0m \u001b[32m━━━━━━━━━━━━━━━━━━━━\u001b[0m\u001b[37m\u001b[0m \u001b[1m0s\u001b[0m 4ms/step - accuracy: 0.5562 - loss: 1.2069 - val_accuracy: 0.5133 - val_loss: 1.3512\n",
            "Epoch 74/100\n",
            "\u001b[1m22/22\u001b[0m \u001b[32m━━━━━━━━━━━━━━━━━━━━\u001b[0m\u001b[37m\u001b[0m \u001b[1m0s\u001b[0m 4ms/step - accuracy: 0.5743 - loss: 1.2336 - val_accuracy: 0.4900 - val_loss: 1.3305\n",
            "Epoch 75/100\n",
            "\u001b[1m22/22\u001b[0m \u001b[32m━━━━━━━━━━━━━━━━━━━━\u001b[0m\u001b[37m\u001b[0m \u001b[1m0s\u001b[0m 4ms/step - accuracy: 0.4646 - loss: 1.3327 - val_accuracy: 0.4667 - val_loss: 1.3328\n",
            "Epoch 76/100\n",
            "\u001b[1m22/22\u001b[0m \u001b[32m━━━━━━━━━━━━━━━━━━━━\u001b[0m\u001b[37m\u001b[0m \u001b[1m0s\u001b[0m 4ms/step - accuracy: 0.5432 - loss: 1.2217 - val_accuracy: 0.5067 - val_loss: 1.3253\n",
            "Epoch 77/100\n",
            "\u001b[1m22/22\u001b[0m \u001b[32m━━━━━━━━━━━━━━━━━━━━\u001b[0m\u001b[37m\u001b[0m \u001b[1m0s\u001b[0m 4ms/step - accuracy: 0.5381 - loss: 1.2400 - val_accuracy: 0.5067 - val_loss: 1.3118\n",
            "Epoch 78/100\n",
            "\u001b[1m22/22\u001b[0m \u001b[32m━━━━━━━━━━━━━━━━━━━━\u001b[0m\u001b[37m\u001b[0m \u001b[1m0s\u001b[0m 4ms/step - accuracy: 0.5364 - loss: 1.2456 - val_accuracy: 0.4900 - val_loss: 1.3500\n",
            "Epoch 79/100\n",
            "\u001b[1m22/22\u001b[0m \u001b[32m━━━━━━━━━━━━━━━━━━━━\u001b[0m\u001b[37m\u001b[0m \u001b[1m0s\u001b[0m 4ms/step - accuracy: 0.5485 - loss: 1.2512 - val_accuracy: 0.4967 - val_loss: 1.3180\n",
            "Epoch 80/100\n",
            "\u001b[1m22/22\u001b[0m \u001b[32m━━━━━━━━━━━━━━━━━━━━\u001b[0m\u001b[37m\u001b[0m \u001b[1m0s\u001b[0m 4ms/step - accuracy: 0.5661 - loss: 1.1898 - val_accuracy: 0.4967 - val_loss: 1.3063\n",
            "Epoch 81/100\n",
            "\u001b[1m22/22\u001b[0m \u001b[32m━━━━━━━━━━━━━━━━━━━━\u001b[0m\u001b[37m\u001b[0m \u001b[1m0s\u001b[0m 4ms/step - accuracy: 0.5596 - loss: 1.2561 - val_accuracy: 0.4967 - val_loss: 1.3170\n",
            "Epoch 82/100\n",
            "\u001b[1m22/22\u001b[0m \u001b[32m━━━━━━━━━━━━━━━━━━━━\u001b[0m\u001b[37m\u001b[0m \u001b[1m0s\u001b[0m 4ms/step - accuracy: 0.5154 - loss: 1.2673 - val_accuracy: 0.5067 - val_loss: 1.3363\n",
            "Epoch 83/100\n",
            "\u001b[1m22/22\u001b[0m \u001b[32m━━━━━━━━━━━━━━━━━━━━\u001b[0m\u001b[37m\u001b[0m \u001b[1m0s\u001b[0m 4ms/step - accuracy: 0.5600 - loss: 1.1955 - val_accuracy: 0.4967 - val_loss: 1.2821\n",
            "Epoch 84/100\n",
            "\u001b[1m22/22\u001b[0m \u001b[32m━━━━━━━━━━━━━━━━━━━━\u001b[0m\u001b[37m\u001b[0m \u001b[1m0s\u001b[0m 4ms/step - accuracy: 0.5319 - loss: 1.1622 - val_accuracy: 0.5167 - val_loss: 1.2835\n",
            "Epoch 85/100\n",
            "\u001b[1m22/22\u001b[0m \u001b[32m━━━━━━━━━━━━━━━━━━━━\u001b[0m\u001b[37m\u001b[0m \u001b[1m0s\u001b[0m 4ms/step - accuracy: 0.5756 - loss: 1.1762 - val_accuracy: 0.4900 - val_loss: 1.3438\n",
            "Epoch 86/100\n",
            "\u001b[1m22/22\u001b[0m \u001b[32m━━━━━━━━━━━━━━━━━━━━\u001b[0m\u001b[37m\u001b[0m \u001b[1m0s\u001b[0m 4ms/step - accuracy: 0.5412 - loss: 1.2287 - val_accuracy: 0.5033 - val_loss: 1.3246\n",
            "Epoch 87/100\n",
            "\u001b[1m22/22\u001b[0m \u001b[32m━━━━━━━━━━━━━━━━━━━━\u001b[0m\u001b[37m\u001b[0m \u001b[1m0s\u001b[0m 4ms/step - accuracy: 0.5969 - loss: 1.1620 - val_accuracy: 0.4933 - val_loss: 1.2957\n",
            "Epoch 88/100\n",
            "\u001b[1m22/22\u001b[0m \u001b[32m━━━━━━━━━━━━━━━━━━━━\u001b[0m\u001b[37m\u001b[0m \u001b[1m0s\u001b[0m 4ms/step - accuracy: 0.5453 - loss: 1.2091 - val_accuracy: 0.5100 - val_loss: 1.2949\n",
            "Epoch 89/100\n",
            "\u001b[1m22/22\u001b[0m \u001b[32m━━━━━━━━━━━━━━━━━━━━\u001b[0m\u001b[37m\u001b[0m \u001b[1m0s\u001b[0m 4ms/step - accuracy: 0.5472 - loss: 1.1923 - val_accuracy: 0.4967 - val_loss: 1.3252\n",
            "Epoch 90/100\n",
            "\u001b[1m22/22\u001b[0m \u001b[32m━━━━━━━━━━━━━━━━━━━━\u001b[0m\u001b[37m\u001b[0m \u001b[1m0s\u001b[0m 4ms/step - accuracy: 0.5603 - loss: 1.1817 - val_accuracy: 0.5100 - val_loss: 1.2626\n",
            "Epoch 91/100\n",
            "\u001b[1m22/22\u001b[0m \u001b[32m━━━━━━━━━━━━━━━━━━━━\u001b[0m\u001b[37m\u001b[0m \u001b[1m0s\u001b[0m 4ms/step - accuracy: 0.5391 - loss: 1.1987 - val_accuracy: 0.5100 - val_loss: 1.2993\n",
            "Epoch 92/100\n",
            "\u001b[1m22/22\u001b[0m \u001b[32m━━━━━━━━━━━━━━━━━━━━\u001b[0m\u001b[37m\u001b[0m \u001b[1m0s\u001b[0m 4ms/step - accuracy: 0.5357 - loss: 1.2376 - val_accuracy: 0.5067 - val_loss: 1.2815\n",
            "Epoch 93/100\n",
            "\u001b[1m22/22\u001b[0m \u001b[32m━━━━━━━━━━━━━━━━━━━━\u001b[0m\u001b[37m\u001b[0m \u001b[1m0s\u001b[0m 4ms/step - accuracy: 0.5752 - loss: 1.1383 - val_accuracy: 0.5267 - val_loss: 1.2872\n",
            "Epoch 94/100\n",
            "\u001b[1m22/22\u001b[0m \u001b[32m━━━━━━━━━━━━━━━━━━━━\u001b[0m\u001b[37m\u001b[0m \u001b[1m0s\u001b[0m 4ms/step - accuracy: 0.5326 - loss: 1.2673 - val_accuracy: 0.4933 - val_loss: 1.3303\n",
            "Epoch 95/100\n",
            "\u001b[1m22/22\u001b[0m \u001b[32m━━━━━━━━━━━━━━━━━━━━\u001b[0m\u001b[37m\u001b[0m \u001b[1m0s\u001b[0m 4ms/step - accuracy: 0.5797 - loss: 1.1642 - val_accuracy: 0.5233 - val_loss: 1.2460\n",
            "Epoch 96/100\n",
            "\u001b[1m22/22\u001b[0m \u001b[32m━━━━━━━━━━━━━━━━━━━━\u001b[0m\u001b[37m\u001b[0m \u001b[1m0s\u001b[0m 4ms/step - accuracy: 0.5657 - loss: 1.1281 - val_accuracy: 0.5100 - val_loss: 1.2838\n",
            "Epoch 97/100\n",
            "\u001b[1m22/22\u001b[0m \u001b[32m━━━━━━━━━━━━━━━━━━━━\u001b[0m\u001b[37m\u001b[0m \u001b[1m0s\u001b[0m 4ms/step - accuracy: 0.5437 - loss: 1.1879 - val_accuracy: 0.5233 - val_loss: 1.2606\n",
            "Epoch 98/100\n",
            "\u001b[1m22/22\u001b[0m \u001b[32m━━━━━━━━━━━━━━━━━━━━\u001b[0m\u001b[37m\u001b[0m \u001b[1m0s\u001b[0m 4ms/step - accuracy: 0.5462 - loss: 1.1362 - val_accuracy: 0.5233 - val_loss: 1.2513\n",
            "Epoch 99/100\n",
            "\u001b[1m22/22\u001b[0m \u001b[32m━━━━━━━━━━━━━━━━━━━━\u001b[0m\u001b[37m\u001b[0m \u001b[1m0s\u001b[0m 4ms/step - accuracy: 0.5618 - loss: 1.1766 - val_accuracy: 0.5233 - val_loss: 1.2524\n",
            "Epoch 100/100\n",
            "\u001b[1m22/22\u001b[0m \u001b[32m━━━━━━━━━━━━━━━━━━━━\u001b[0m\u001b[37m\u001b[0m \u001b[1m0s\u001b[0m 4ms/step - accuracy: 0.5879 - loss: 1.0962 - val_accuracy: 0.5133 - val_loss: 1.2967\n"
          ]
        },
        {
          "data": {
            "text/plain": [
              "<keras.src.callbacks.history.History at 0x1682de8fd90>"
            ]
          },
          "execution_count": 127,
          "metadata": {},
          "output_type": "execute_result"
        }
      ],
      "source": [
        "model.fit(x=X_train,y=y_train,epochs=100,validation_data=(X_test,y_test),callbacks=[earlystop])"
      ]
    },
    {
      "cell_type": "code",
      "execution_count": null,
      "id": "b86b16f0",
      "metadata": {
        "id": "b86b16f0",
        "outputId": "fa0a9d85-a8d8-4492-9e5b-66bcadaf6833"
      },
      "outputs": [
        {
          "data": {
            "image/png": "[encoded data removed]",
            "text/plain": [
              "<Figure size 640x480 with 1 Axes>"
            ]
          },
          "metadata": {},
          "output_type": "display_data"
        }
      ],
      "source": [
        "losses=pd.DataFrame(model.history.history).plot()"
      ]
    },
    {
      "cell_type": "code",
      "execution_count": null,
      "id": "aa7e270b",
      "metadata": {
        "id": "aa7e270b",
        "outputId": "70c91289-fec1-4112-f036-6b78ece30584"
      },
      "outputs": [
        {
          "name": "stdout",
          "output_type": "stream",
          "text": [
            "\u001b[1m10/10\u001b[0m \u001b[32m━━━━━━━━━━━━━━━━━━━━\u001b[0m\u001b[37m\u001b[0m \u001b[1m0s\u001b[0m 11ms/step\n"
          ]
        }
      ],
      "source": [
        "predictions=np.argmax(model.predict(X_test),axis=1)"
      ]
    },
    {
      "cell_type": "code",
      "execution_count": null,
      "id": "6f0378a5",
      "metadata": {
        "id": "6f0378a5",
        "outputId": "63cfce91-ba87-4532-9212-db9c3868612a"
      },
      "outputs": [
        {
          "name": "stdout",
          "output_type": "stream",
          "text": [
            "\u001b[1m10/10\u001b[0m \u001b[32m━━━━━━━━━━━━━━━━━━━━\u001b[0m\u001b[37m\u001b[0m \u001b[1m0s\u001b[0m 3ms/step - accuracy: 0.4928 - loss: 1.3237 \n"
          ]
        }
      ],
      "source": [
        "score=model.evaluate(X_test,y_test)"
      ]
    },
    {
      "cell_type": "code",
      "execution_count": null,
      "id": "73b32c09",
      "metadata": {
        "id": "73b32c09"
      },
      "outputs": [],
      "source": [
        "y_one=df.drop('label',axis=1).iloc[109]"
      ]
    },
    {
      "cell_type": "code",
      "execution_count": null,
      "id": "243171fd",
      "metadata": {
        "id": "243171fd"
      },
      "outputs": [],
      "source": [
        "y_one=scaler.transform(y_one.values.reshape(1,58))"
      ]
    },
    {
      "cell_type": "code",
      "execution_count": null,
      "id": "5b327980",
      "metadata": {
        "id": "5b327980",
        "outputId": "626c7625-e44d-429c-f65d-7c3ae6d63c1a"
      },
      "outputs": [
        {
          "name": "stdout",
          "output_type": "stream",
          "text": [
            "\u001b[1m1/1\u001b[0m \u001b[32m━━━━━━━━━━━━━━━━━━━━\u001b[0m\u001b[37m\u001b[0m \u001b[1m0s\u001b[0m 35ms/step\n"
          ]
        },
        {
          "data": {
            "text/plain": [
              "1"
            ]
          },
          "execution_count": 158,
          "metadata": {},
          "output_type": "execute_result"
        }
      ],
      "source": [
        "np.argmax(model.predict(y_one))"
      ]
    },
    {
      "cell_type": "code",
      "execution_count": null,
      "id": "38b5717a",
      "metadata": {
        "id": "38b5717a"
      },
      "outputs": [],
      "source": []
    }
  ],
  "metadata": {
    "kernelspec": {
      "display_name": "Python 3 (ipykernel)",
      "language": "python",
      "name": "python3"
    },
    "language_info": {
      "codemirror_mode": {
        "name": "ipython",
        "version": 3
      },
      "file_extension": ".py",
      "mimetype": "text/x-python",
      "name": "python",
      "nbconvert_exporter": "python",
      "pygments_lexer": "ipython3",
      "version": "3.11.7"
    },
    "colab": {
      "provenance": [],
      "include_colab_link": true
    }
  },
  "nbformat": 4,
  "nbformat_minor": 5
}